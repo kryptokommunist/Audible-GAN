{
 "cells": [
  {
   "cell_type": "code",
   "execution_count": 1,
   "metadata": {},
   "outputs": [
    {
     "data": {
      "text/html": [
       "<div>\n",
       "<style scoped>\n",
       "    .dataframe tbody tr th:only-of-type {\n",
       "        vertical-align: middle;\n",
       "    }\n",
       "\n",
       "    .dataframe tbody tr th {\n",
       "        vertical-align: top;\n",
       "    }\n",
       "\n",
       "    .dataframe thead th {\n",
       "        text-align: right;\n",
       "    }\n",
       "</style>\n",
       "<table border=\"1\" class=\"dataframe\">\n",
       "  <thead>\n",
       "    <tr style=\"text-align: right;\">\n",
       "      <th></th>\n",
       "      <th>filename</th>\n",
       "      <th>pca</th>\n",
       "    </tr>\n",
       "  </thead>\n",
       "  <tbody>\n",
       "    <tr>\n",
       "      <th>0</th>\n",
       "      <td>latentspace0.png</td>\n",
       "      <td>[0.5551839, 0.5202375, 0.552221, 0.34569827, 0...</td>\n",
       "    </tr>\n",
       "    <tr>\n",
       "      <th>1</th>\n",
       "      <td>latentspace1.png</td>\n",
       "      <td>[0.5552916, 0.5201897, 0.5519484, 0.34605604, ...</td>\n",
       "    </tr>\n",
       "    <tr>\n",
       "      <th>2</th>\n",
       "      <td>latentspace2.png</td>\n",
       "      <td>[0.5553996, 0.52014184, 0.55167526, 0.3464147,...</td>\n",
       "    </tr>\n",
       "    <tr>\n",
       "      <th>3</th>\n",
       "      <td>latentspace3.png</td>\n",
       "      <td>[0.55550784, 0.52009374, 0.55140156, 0.3467739...</td>\n",
       "    </tr>\n",
       "    <tr>\n",
       "      <th>4</th>\n",
       "      <td>latentspace4.png</td>\n",
       "      <td>[0.55561626, 0.52004564, 0.5511273, 0.34713393...</td>\n",
       "    </tr>\n",
       "    <tr>\n",
       "      <th>...</th>\n",
       "      <td>...</td>\n",
       "      <td>...</td>\n",
       "    </tr>\n",
       "    <tr>\n",
       "      <th>1255</th>\n",
       "      <td>latentspace1255.png</td>\n",
       "      <td>[0.54242265, 0.33198148, 0.0, 0.9707093, 1.0, ...</td>\n",
       "    </tr>\n",
       "    <tr>\n",
       "      <th>1256</th>\n",
       "      <td>latentspace1256.png</td>\n",
       "      <td>[0.54230475, 0.3319399, 0.0, 0.9706905, 1.0, 0...</td>\n",
       "    </tr>\n",
       "    <tr>\n",
       "      <th>1257</th>\n",
       "      <td>latentspace1257.png</td>\n",
       "      <td>[0.542187, 0.33189842, 0.0, 0.9706715, 1.0, 0....</td>\n",
       "    </tr>\n",
       "    <tr>\n",
       "      <th>1258</th>\n",
       "      <td>latentspace1258.png</td>\n",
       "      <td>[0.54206944, 0.331857, 0.0, 0.9706525, 1.0, 0....</td>\n",
       "    </tr>\n",
       "    <tr>\n",
       "      <th>1259</th>\n",
       "      <td>latentspace1259.png</td>\n",
       "      <td>[0.5419521, 0.33181563, 0.0, 0.97063345, 1.0, ...</td>\n",
       "    </tr>\n",
       "  </tbody>\n",
       "</table>\n",
       "<p>1260 rows × 2 columns</p>\n",
       "</div>"
      ],
      "text/plain": [
       "                 filename                                                pca\n",
       "0        latentspace0.png  [0.5551839, 0.5202375, 0.552221, 0.34569827, 0...\n",
       "1        latentspace1.png  [0.5552916, 0.5201897, 0.5519484, 0.34605604, ...\n",
       "2        latentspace2.png  [0.5553996, 0.52014184, 0.55167526, 0.3464147,...\n",
       "3        latentspace3.png  [0.55550784, 0.52009374, 0.55140156, 0.3467739...\n",
       "4        latentspace4.png  [0.55561626, 0.52004564, 0.5511273, 0.34713393...\n",
       "...                   ...                                                ...\n",
       "1255  latentspace1255.png  [0.54242265, 0.33198148, 0.0, 0.9707093, 1.0, ...\n",
       "1256  latentspace1256.png  [0.54230475, 0.3319399, 0.0, 0.9706905, 1.0, 0...\n",
       "1257  latentspace1257.png  [0.542187, 0.33189842, 0.0, 0.9706715, 1.0, 0....\n",
       "1258  latentspace1258.png  [0.54206944, 0.331857, 0.0, 0.9706525, 1.0, 0....\n",
       "1259  latentspace1259.png  [0.5419521, 0.33181563, 0.0, 0.97063345, 1.0, ...\n",
       "\n",
       "[1260 rows x 2 columns]"
      ]
     },
     "execution_count": 1,
     "metadata": {},
     "output_type": "execute_result"
    }
   ],
   "source": [
    "from pythonosc import osc_message_builder\n",
    "from pythonosc import udp_client\n",
    "import numpy as np\n",
    "import time\n",
    "import pandas as pd\n",
    "\n",
    "client = udp_client.SimpleUDPClient(\"127.0.0.1\", 57120)\n",
    "\n",
    "data = pd.read_pickle(\"data/latentspace.pkl\")\n",
    "data"
   ]
  },
  {
   "cell_type": "code",
   "execution_count": 2,
   "metadata": {},
   "outputs": [
    {
     "data": {
      "text/plain": [
       "<Figure size 432x288 with 0 Axes>"
      ]
     },
     "metadata": {},
     "output_type": "display_data"
    }
   ],
   "source": [
    "import cv2\n",
    "import matplotlib.pyplot as plt\n",
    "from IPython.display import clear_output\n",
    "\n",
    "input_list = []\n",
    "\n",
    "for index, row in data.iterrows():\n",
    "    image = plt.imread(\"latentspace/\" + row[\"filename\"])\n",
    "    input_list.append((image, row[\"pca\"].astype(np.float64)))\n",
    "\n",
    "\n",
    "plt.figure()\n",
    "\n",
    "\n",
    "for image, pca in input_list:\n",
    "    #plt.imshow(image)\n",
    "    #plt.show()\n",
    "    client.send_message(\"/sound\", pca)\n",
    "    time.sleep(0.047)"
   ]
  },
  {
   "cell_type": "markdown",
   "metadata": {},
   "source": [
    "# Future work: Creating video and sound together"
   ]
  },
  {
   "cell_type": "code",
   "execution_count": 3,
   "metadata": {},
   "outputs": [],
   "source": [
    "for x in range(10):\n",
    "    client.send_message(\"/sound\", np.random.random_sample(8))\n",
    "    time.sleep(0.1)"
   ]
  },
  {
   "cell_type": "code",
   "execution_count": 4,
   "metadata": {},
   "outputs": [],
   "source": [
    "for x in range(10):\n",
    "    client.send_message(\"/sound\", list(np.random.random_sample(8)))\n",
    "    time.sleep(0.1)"
   ]
  },
  {
   "cell_type": "code",
   "execution_count": 5,
   "metadata": {},
   "outputs": [
    {
     "data": {
      "text/plain": [
       "dtype('float64')"
      ]
     },
     "execution_count": 5,
     "metadata": {},
     "output_type": "execute_result"
    }
   ],
   "source": [
    "np.random.random_sample(8).dtype"
   ]
  },
  {
   "cell_type": "code",
   "execution_count": null,
   "metadata": {},
   "outputs": [],
   "source": [
    "ipython show imageshow pngs as videoffmpeg png to videopytorch model teoutput = []for input_noise in inter_noisewith torch.no_grad():\n",
    "      generated_images = model.test(input_noise)inter_inputinter_inpuinter_input = torch.from(inter_inputreshape to add [:, np.nnp.zeros(()512,512,1260astype(np.float32, dtype=np.float32output[]:,:1i, enumerate()i = generated_images[]0torch.from_numpy(outputinter_input = inter_input[:,:, np.new.nu.cpnp.newaxis,image_name = \"latentspace\" + str(i) + \".png\"\n",
    "  file_names.append(image_name)\n",
    "  path = \"/content/drive/MyDrive/latentspace/\" + image_name\n",
    "  save_image(batch, path)generated_imagesfrom torchvision.utils import save_imagefile_names = []4/1AY0e-g5S4sQQnW2PQlDDq6gbE0ItXF-tIV5f3FTbpV3BWQNmoTGGzXJeT6g[]umpy()ax.c, 3output[i] = generated_images[0]print(generated.shape.cpu512, 512torto[0inter_noisedpandas iterate thrfor index, row in df.iterrows():\n",
    "    print(row['c1'], row['c2'])latentspace/!!pip3 install pandasimport cv2\n",
    "import matplotlib.pyplot as plt\n",
    "\n",
    "def grab_frame():\n",
    "    image = io.imread('http://[ip-address]/cam_pic.php')\n",
    "    image_gray = cv2.cvtColor(image, cv2.COLOR_RGB2GRAY)\n",
    "    faces = detect(image_gray)\n",
    "    return faces_draw(image, faces)\n",
    "\n",
    "#create axes\n",
    "ax1 = plt.subplot(111)\n",
    "\n",
    "#create image plot\n",
    "im1 = ax1.imshow(grab_frame())\n",
    "\n",
    "plt.ion()\n",
    "\n",
    "while True:\n",
    "    im1.set_data(grab_frame())\n",
    "    plt.pause(0.2)\n",
    "\n",
    "plt.ioff() # due to infinite loop, this gets never called.\n",
    "plt.show()pandas iterroindex, row =row[\"filename1/205matplotliatagenerator object ne)import io.imreadread image matplotlibpimagecheck if generator empprint(row   datajupyter update imagefig = plt.figure()fig.canvas.draw() matplotli update imshowfrom IPython.display import clear_outputclear_output(wait=ax1.imshowfor i in range(126plt.splt.figure()pl1client.send_message(\"/sound\", , row[\"pcapca)image, pca = grab_frame()imageprint(pcalist(])list(pcnp.random.random_sample(8list()print(type(.asdtype(np.float605###time.sleep(0.05ffmpeg to video png1260/60lscd /UkDocUDlsffmpeg -r 1/5 -i img%03d.png -c:v libx264 -vf \"fps=25,format=yuv420p\" out.mp4cd laffmpeg -r 1/5 -i latentspace%03d.png -c:v lffmpeg slideshow no leading zerocat *.pngplt.imread(\"latentspace/\" + row[\"filename\"])image = plt.imread(\"latentspace/\" + row[\"fiimage, row[\"pca\"])(image, pca in input_listinput_lisinput_li.astype(np.float64acti | ffmpeg -framerate ntsc -f image2pipe -c:v mjpeg -i - -pix_fmt yuv420p output.mp4ibx264 -vf \"fps=21,format=yuv420p\" out.mp4typ.dtype"
   ]
  },
  {
   "cell_type": "code",
   "execution_count": 11,
   "metadata": {},
   "outputs": [],
   "source": [
    "for image, pca in input_list:\n",
    "    #plt.imshow(image)\n",
    "    #plt.show()\n",
    "    client.send_message(\"/sound\", np.flip(pca))\n",
    "    time.sleep(0.047)"
   ]
  },
  {
   "cell_type": "code",
   "execution_count": null,
   "metadata": {},
   "outputs": [],
   "source": []
  }
 ],
 "metadata": {
  "kernelspec": {
   "display_name": "Python 3",
   "language": "python",
   "name": "python3"
  },
  "language_info": {
   "codemirror_mode": {
    "name": "ipython",
    "version": 3
   },
   "file_extension": ".py",
   "mimetype": "text/x-python",
   "name": "python",
   "nbconvert_exporter": "python",
   "pygments_lexer": "ipython3",
   "version": "3.9.1"
  }
 },
 "nbformat": 4,
 "nbformat_minor": 4
}
